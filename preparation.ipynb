{
 "cells": [
  {
   "cell_type": "code",
   "execution_count": 1,
   "metadata": {},
   "outputs": [
    {
     "name": "stdout",
     "output_type": "stream",
     "text": [
      "Training set: (4000, 21), Test set: (1000, 21)\n"
     ]
    }
   ],
   "source": [
    "# Import necessary libraries\n",
    "from sklearn.model_selection import train_test_split\n",
    "from sklearn.preprocessing import StandardScaler\n",
    "import pandas as pd\n",
    "import numpy as np\n",
    "\n",
    "# Load dataset (ensure it's already cleaned)\n",
    "file_path = \"startup_growth_investment_data.csv\"  \n",
    "df = pd.read_csv(file_path)\n",
    "\n",
    "# Apply log transformation to valuation\n",
    "df[\"Valuation (USD)\"] = np.log1p(df[\"Valuation (USD)\"])\n",
    "\n",
    "# One-Hot Encode Categorical Features\n",
    "df = pd.get_dummies(df, columns=[\"Industry\", \"Country\"], drop_first=True)\n",
    "\n",
    "# Select numerical features for scaling\n",
    "features_to_scale = [\"Investment Amount (USD)\", \"Funding Rounds\", \"Number of Investors\", \"Growth Rate (%)\"]\n",
    "scaler = StandardScaler()\n",
    "df[features_to_scale] = scaler.fit_transform(df[features_to_scale])\n",
    "\n",
    "# Split data into training and test sets\n",
    "X = df.drop(columns=[\"Startup Name\", \"Valuation (USD)\"])  # Drop non-useful columns\n",
    "y = df[\"Valuation (USD)\"]\n",
    "\n",
    "X_train, X_test, y_train, y_test = train_test_split(X, y, test_size=0.2, random_state=42)\n",
    "\n",
    "# Print dataset shapes\n",
    "print(f\"Training set: {X_train.shape}, Test set: {X_test.shape}\")\n"
   ]
  }
 ],
 "metadata": {
  "kernelspec": {
   "display_name": "Python 3",
   "language": "python",
   "name": "python3"
  },
  "language_info": {
   "codemirror_mode": {
    "name": "ipython",
    "version": 3
   },
   "file_extension": ".py",
   "mimetype": "text/x-python",
   "name": "python",
   "nbconvert_exporter": "python",
   "pygments_lexer": "ipython3",
   "version": "3.12.3"
  }
 },
 "nbformat": 4,
 "nbformat_minor": 2
}
